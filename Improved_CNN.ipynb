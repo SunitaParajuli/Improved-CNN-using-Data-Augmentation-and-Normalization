{
  "cells": [
    {
      "cell_type": "markdown",
      "metadata": {
        "id": "view-in-github",
        "colab_type": "text"
      },
      "source": [
        "<a href=\"https://colab.research.google.com/github/SunitaParajuli/Improved-CNN-using-Data-Augmentation-and-Normalization/blob/main/Improved_CNN.ipynb\" target=\"_parent\"><img src=\"https://colab.research.google.com/assets/colab-badge.svg\" alt=\"Open In Colab\"/></a>"
      ]
    },
    {
      "cell_type": "code",
      "execution_count": 1,
      "metadata": {
        "colab": {
          "base_uri": "https://localhost:8080/"
        },
        "id": "2LRqmysFMuu_",
        "outputId": "5a1373a7-c66e-45fb-b631-8a372806ca0c"
      },
      "outputs": [
        {
          "output_type": "stream",
          "name": "stdout",
          "text": [
            "2.8.2\n"
          ]
        }
      ],
      "source": [
        "import tensorflow as tf\n",
        "print(tf.__version__)"
      ]
    },
    {
      "cell_type": "code",
      "execution_count": 2,
      "metadata": {
        "id": "TDcmiOA8MyB_"
      },
      "outputs": [],
      "source": [
        "import numpy as np\n",
        "import matplotlib.pyplot as plt\n",
        "from tensorflow.keras.layers import Input, Conv2D, Dense, Flatten, Dropout, MaxPooling2D, BatchNormalization\n",
        "from tensorflow.keras.models import Model"
      ]
    },
    {
      "cell_type": "code",
      "execution_count": 3,
      "metadata": {
        "colab": {
          "base_uri": "https://localhost:8080/"
        },
        "id": "Nv4tU2C6M4nz",
        "outputId": "280d237f-f5be-492a-8b76-bbf5e06132a0"
      },
      "outputs": [
        {
          "output_type": "stream",
          "name": "stdout",
          "text": [
            "Downloading data from https://www.cs.toronto.edu/~kriz/cifar-10-python.tar.gz\n",
            "170500096/170498071 [==============================] - 13s 0us/step\n",
            "170508288/170498071 [==============================] - 13s 0us/step\n",
            "x_train.shape: (50000, 32, 32, 3)\n",
            "y_train.shape (50000,)\n"
          ]
        }
      ],
      "source": [
        "\n",
        "cifar10 = tf.keras.datasets.cifar10\n",
        "\n",
        "(x_train, y_train), (x_test, y_test) = cifar10.load_data()\n",
        "x_train, x_test = x_train / 255.0, x_test / 255.0\n",
        "y_train, y_test = y_train.flatten(), y_test.flatten() ##\n",
        "print(\"x_train.shape:\", x_train.shape)\n",
        "print(\"y_train.shape\", y_train.shape)"
      ]
    },
    {
      "cell_type": "code",
      "execution_count": 4,
      "metadata": {
        "colab": {
          "base_uri": "https://localhost:8080/"
        },
        "id": "h3TGGQvkM5VM",
        "outputId": "f27fc39d-7051-4f25-a2b7-50c55d299cc2"
      },
      "outputs": [
        {
          "output_type": "stream",
          "name": "stdout",
          "text": [
            "No. of classes 10\n"
          ]
        }
      ],
      "source": [
        "K = len(set(y_train))\n",
        "print(\"No. of classes \"+str(K))"
      ]
    },
    {
      "cell_type": "code",
      "execution_count": 5,
      "metadata": {
        "id": "jkvduzR7NGwM"
      },
      "outputs": [],
      "source": [
        "i = Input(shape = x_train[0].shape)\n",
        "\n",
        "x = Conv2D(32, (3,3), padding = 'same', activation = 'relu')(i)\n",
        "x = BatchNormalization()(x)\n",
        "x = Conv2D(32, (3,3), padding = 'same', activation = 'relu')(x)\n",
        "x = BatchNormalization()(x)\n",
        "x = MaxPooling2D((2,2))(x)\n",
        "\n",
        "x = Conv2D(64, (3,3), padding = 'same', activation = 'relu')(x)\n",
        "x = BatchNormalization()(x)\n",
        "x = Conv2D(64, (3,3), padding = 'same', activation = 'relu')(x)\n",
        "x = BatchNormalization()(x)\n",
        "x = MaxPooling2D((2,2))(x)\n",
        "\n",
        "x = Conv2D(128, (3,3), padding = 'same', activation = 'relu')(x)\n",
        "x = BatchNormalization()(x)\n",
        "x = Conv2D(128, (3,3), padding = 'same', activation = 'relu')(x)\n",
        "x = BatchNormalization()(x)\n",
        "x = MaxPooling2D((2,2))(x)\n",
        "\n",
        "x = Flatten()(x)\n",
        "x = Dropout(0.2)(x)\n",
        "x = Dense(1024, activation = 'relu')(x)\n",
        "x = Dropout(0.2)(x)\n",
        "x = Dense(K, activation = 'softmax')(x)\n",
        "\n",
        "model = Model(i,x)"
      ]
    },
    {
      "cell_type": "code",
      "execution_count": 6,
      "metadata": {
        "colab": {
          "base_uri": "https://localhost:8080/"
        },
        "id": "ZURrzgN8OUo0",
        "outputId": "7b9c42cc-00c4-4fa1-9488-017f08b2e0d3"
      },
      "outputs": [
        {
          "output_type": "stream",
          "name": "stdout",
          "text": [
            "Epoch 1/15\n",
            "1563/1563 [==============================] - 24s 7ms/step - loss: 1.2806 - accuracy: 0.5604 - val_loss: 0.9731 - val_accuracy: 0.6567\n",
            "Epoch 2/15\n",
            "1563/1563 [==============================] - 11s 7ms/step - loss: 0.8343 - accuracy: 0.7110 - val_loss: 0.7687 - val_accuracy: 0.7402\n",
            "Epoch 3/15\n",
            "1563/1563 [==============================] - 11s 7ms/step - loss: 0.6907 - accuracy: 0.7612 - val_loss: 0.7485 - val_accuracy: 0.7487\n",
            "Epoch 4/15\n",
            "1563/1563 [==============================] - 11s 7ms/step - loss: 0.5863 - accuracy: 0.7974 - val_loss: 0.6623 - val_accuracy: 0.7758\n",
            "Epoch 5/15\n",
            "1563/1563 [==============================] - 11s 7ms/step - loss: 0.4965 - accuracy: 0.8297 - val_loss: 0.6571 - val_accuracy: 0.7825\n",
            "Epoch 6/15\n",
            "1563/1563 [==============================] - 11s 7ms/step - loss: 0.4180 - accuracy: 0.8546 - val_loss: 0.6737 - val_accuracy: 0.7917\n",
            "Epoch 7/15\n",
            "1563/1563 [==============================] - 11s 7ms/step - loss: 0.3568 - accuracy: 0.8756 - val_loss: 0.7021 - val_accuracy: 0.7862\n",
            "Epoch 8/15\n",
            "1563/1563 [==============================] - 11s 7ms/step - loss: 0.3008 - accuracy: 0.8955 - val_loss: 0.6715 - val_accuracy: 0.8094\n",
            "Epoch 9/15\n",
            "1563/1563 [==============================] - 11s 7ms/step - loss: 0.2589 - accuracy: 0.9099 - val_loss: 0.6168 - val_accuracy: 0.8135\n",
            "Epoch 10/15\n",
            "1563/1563 [==============================] - 11s 7ms/step - loss: 0.2265 - accuracy: 0.9226 - val_loss: 0.6570 - val_accuracy: 0.8121\n",
            "Epoch 11/15\n",
            "1563/1563 [==============================] - 11s 7ms/step - loss: 0.1948 - accuracy: 0.9327 - val_loss: 0.6250 - val_accuracy: 0.8189\n",
            "Epoch 12/15\n",
            "1563/1563 [==============================] - 11s 7ms/step - loss: 0.1781 - accuracy: 0.9394 - val_loss: 0.6731 - val_accuracy: 0.8181\n",
            "Epoch 13/15\n",
            "1563/1563 [==============================] - 11s 7ms/step - loss: 0.1559 - accuracy: 0.9479 - val_loss: 0.6699 - val_accuracy: 0.8229\n",
            "Epoch 14/15\n",
            "1563/1563 [==============================] - 12s 7ms/step - loss: 0.1454 - accuracy: 0.9506 - val_loss: 0.7542 - val_accuracy: 0.8209\n",
            "Epoch 15/15\n",
            "1563/1563 [==============================] - 11s 7ms/step - loss: 0.1290 - accuracy: 0.9558 - val_loss: 0.7492 - val_accuracy: 0.8123\n"
          ]
        }
      ],
      "source": [
        "model.compile(optimizer='adam',loss='sparse_categorical_crossentropy',metrics=['accuracy'])\n",
        "r = model.fit(x_train,y_train,validation_data=(x_test,y_test),epochs=15)"
      ]
    },
    {
      "cell_type": "code",
      "execution_count": 7,
      "metadata": {
        "colab": {
          "base_uri": "https://localhost:8080/"
        },
        "id": "Rr07kQ5ePGIA",
        "outputId": "571f51da-aa01-4cf9-c1f6-d6687e9d08a5"
      },
      "outputs": [
        {
          "output_type": "stream",
          "name": "stdout",
          "text": [
            "Epoch 1/50\n"
          ]
        },
        {
          "output_type": "stream",
          "name": "stderr",
          "text": [
            "/usr/local/lib/python3.7/dist-packages/ipykernel_launcher.py:7: UserWarning: `Model.fit_generator` is deprecated and will be removed in a future version. Please use `Model.fit`, which supports generators.\n",
            "  import sys\n"
          ]
        },
        {
          "output_type": "stream",
          "name": "stdout",
          "text": [
            "1562/1562 [==============================] - 34s 21ms/step - loss: 0.6053 - accuracy: 0.8033 - val_loss: 0.6421 - val_accuracy: 0.7943\n",
            "Epoch 2/50\n",
            "1562/1562 [==============================] - 33s 21ms/step - loss: 0.5025 - accuracy: 0.8311 - val_loss: 0.5133 - val_accuracy: 0.8307\n",
            "Epoch 3/50\n",
            "1562/1562 [==============================] - 33s 21ms/step - loss: 0.4687 - accuracy: 0.8433 - val_loss: 0.5173 - val_accuracy: 0.8236\n",
            "Epoch 4/50\n",
            "1562/1562 [==============================] - 34s 22ms/step - loss: 0.4375 - accuracy: 0.8522 - val_loss: 0.4676 - val_accuracy: 0.8440\n",
            "Epoch 5/50\n",
            "1562/1562 [==============================] - 33s 21ms/step - loss: 0.4163 - accuracy: 0.8598 - val_loss: 0.4605 - val_accuracy: 0.8464\n",
            "Epoch 6/50\n",
            "1562/1562 [==============================] - 33s 21ms/step - loss: 0.3972 - accuracy: 0.8642 - val_loss: 0.4653 - val_accuracy: 0.8512\n",
            "Epoch 7/50\n",
            "1562/1562 [==============================] - 33s 21ms/step - loss: 0.3870 - accuracy: 0.8676 - val_loss: 0.4519 - val_accuracy: 0.8497\n",
            "Epoch 8/50\n",
            "1562/1562 [==============================] - 34s 22ms/step - loss: 0.3701 - accuracy: 0.8730 - val_loss: 0.4549 - val_accuracy: 0.8468\n",
            "Epoch 9/50\n",
            "1562/1562 [==============================] - 32s 21ms/step - loss: 0.3504 - accuracy: 0.8798 - val_loss: 0.4673 - val_accuracy: 0.8464\n",
            "Epoch 10/50\n",
            "1562/1562 [==============================] - 33s 21ms/step - loss: 0.3442 - accuracy: 0.8836 - val_loss: 0.4463 - val_accuracy: 0.8606\n",
            "Epoch 11/50\n",
            "1562/1562 [==============================] - 33s 21ms/step - loss: 0.3312 - accuracy: 0.8860 - val_loss: 0.4237 - val_accuracy: 0.8605\n",
            "Epoch 12/50\n",
            "1562/1562 [==============================] - 32s 21ms/step - loss: 0.3208 - accuracy: 0.8907 - val_loss: 0.4048 - val_accuracy: 0.8650\n",
            "Epoch 13/50\n",
            "1562/1562 [==============================] - 32s 21ms/step - loss: 0.3133 - accuracy: 0.8925 - val_loss: 0.4255 - val_accuracy: 0.8623\n",
            "Epoch 14/50\n",
            "1562/1562 [==============================] - 32s 21ms/step - loss: 0.3046 - accuracy: 0.8961 - val_loss: 0.4182 - val_accuracy: 0.8634\n",
            "Epoch 15/50\n",
            "1562/1562 [==============================] - 33s 21ms/step - loss: 0.2935 - accuracy: 0.9000 - val_loss: 0.4231 - val_accuracy: 0.8620\n",
            "Epoch 16/50\n",
            "1562/1562 [==============================] - 32s 21ms/step - loss: 0.2878 - accuracy: 0.9014 - val_loss: 0.4255 - val_accuracy: 0.8606\n",
            "Epoch 17/50\n",
            "1562/1562 [==============================] - 32s 21ms/step - loss: 0.2808 - accuracy: 0.9042 - val_loss: 0.4267 - val_accuracy: 0.8635\n",
            "Epoch 18/50\n",
            "1562/1562 [==============================] - 34s 22ms/step - loss: 0.2699 - accuracy: 0.9060 - val_loss: 0.4286 - val_accuracy: 0.8613\n",
            "Epoch 19/50\n",
            "1562/1562 [==============================] - 33s 21ms/step - loss: 0.2719 - accuracy: 0.9083 - val_loss: 0.4685 - val_accuracy: 0.8511\n",
            "Epoch 20/50\n",
            "1562/1562 [==============================] - 33s 21ms/step - loss: 0.2596 - accuracy: 0.9107 - val_loss: 0.4291 - val_accuracy: 0.8637\n",
            "Epoch 21/50\n",
            "1562/1562 [==============================] - 39s 25ms/step - loss: 0.2584 - accuracy: 0.9112 - val_loss: 0.4453 - val_accuracy: 0.8524\n",
            "Epoch 22/50\n",
            "1562/1562 [==============================] - 33s 21ms/step - loss: 0.2530 - accuracy: 0.9123 - val_loss: 0.4222 - val_accuracy: 0.8696\n",
            "Epoch 23/50\n",
            "1562/1562 [==============================] - 34s 22ms/step - loss: 0.2453 - accuracy: 0.9152 - val_loss: 0.4205 - val_accuracy: 0.8665\n",
            "Epoch 24/50\n",
            "1562/1562 [==============================] - 33s 21ms/step - loss: 0.2409 - accuracy: 0.9169 - val_loss: 0.4042 - val_accuracy: 0.8746\n",
            "Epoch 25/50\n",
            "1562/1562 [==============================] - 34s 22ms/step - loss: 0.2348 - accuracy: 0.9221 - val_loss: 0.5089 - val_accuracy: 0.8527\n",
            "Epoch 26/50\n",
            "1562/1562 [==============================] - 32s 21ms/step - loss: 0.2354 - accuracy: 0.9200 - val_loss: 0.4062 - val_accuracy: 0.8721\n",
            "Epoch 27/50\n",
            "1562/1562 [==============================] - 33s 21ms/step - loss: 0.2307 - accuracy: 0.9214 - val_loss: 0.4373 - val_accuracy: 0.8648\n",
            "Epoch 28/50\n",
            "1562/1562 [==============================] - 34s 22ms/step - loss: 0.2311 - accuracy: 0.9221 - val_loss: 0.3996 - val_accuracy: 0.8705\n",
            "Epoch 29/50\n",
            "1562/1562 [==============================] - 33s 21ms/step - loss: 0.2161 - accuracy: 0.9249 - val_loss: 0.4386 - val_accuracy: 0.8711\n",
            "Epoch 30/50\n",
            "1562/1562 [==============================] - 33s 21ms/step - loss: 0.2155 - accuracy: 0.9258 - val_loss: 0.4203 - val_accuracy: 0.8718\n",
            "Epoch 31/50\n",
            "1562/1562 [==============================] - 32s 21ms/step - loss: 0.2148 - accuracy: 0.9256 - val_loss: 0.3993 - val_accuracy: 0.8755\n",
            "Epoch 32/50\n",
            "1562/1562 [==============================] - 34s 22ms/step - loss: 0.2064 - accuracy: 0.9303 - val_loss: 0.3917 - val_accuracy: 0.8746\n",
            "Epoch 33/50\n",
            "1562/1562 [==============================] - 33s 21ms/step - loss: 0.2056 - accuracy: 0.9283 - val_loss: 0.4020 - val_accuracy: 0.8795\n",
            "Epoch 34/50\n",
            "1562/1562 [==============================] - 33s 21ms/step - loss: 0.2011 - accuracy: 0.9310 - val_loss: 0.3868 - val_accuracy: 0.8791\n",
            "Epoch 35/50\n",
            "1562/1562 [==============================] - 33s 21ms/step - loss: 0.2014 - accuracy: 0.9309 - val_loss: 0.3987 - val_accuracy: 0.8805\n",
            "Epoch 36/50\n",
            "1562/1562 [==============================] - 32s 21ms/step - loss: 0.1961 - accuracy: 0.9321 - val_loss: 0.4422 - val_accuracy: 0.8703\n",
            "Epoch 37/50\n",
            "1562/1562 [==============================] - 33s 21ms/step - loss: 0.1952 - accuracy: 0.9335 - val_loss: 0.3921 - val_accuracy: 0.8842\n",
            "Epoch 38/50\n",
            "1562/1562 [==============================] - 32s 21ms/step - loss: 0.1935 - accuracy: 0.9337 - val_loss: 0.4197 - val_accuracy: 0.8722\n",
            "Epoch 39/50\n",
            "1562/1562 [==============================] - 33s 21ms/step - loss: 0.1916 - accuracy: 0.9343 - val_loss: 0.3933 - val_accuracy: 0.8773\n",
            "Epoch 40/50\n",
            "1562/1562 [==============================] - 32s 21ms/step - loss: 0.1859 - accuracy: 0.9373 - val_loss: 0.4149 - val_accuracy: 0.8741\n",
            "Epoch 41/50\n",
            "1562/1562 [==============================] - 32s 21ms/step - loss: 0.1904 - accuracy: 0.9357 - val_loss: 0.4321 - val_accuracy: 0.8731\n",
            "Epoch 42/50\n",
            "1562/1562 [==============================] - 33s 21ms/step - loss: 0.1777 - accuracy: 0.9384 - val_loss: 0.4925 - val_accuracy: 0.8655\n",
            "Epoch 43/50\n",
            "1562/1562 [==============================] - 32s 21ms/step - loss: 0.1768 - accuracy: 0.9396 - val_loss: 0.4439 - val_accuracy: 0.8668\n",
            "Epoch 44/50\n",
            "1562/1562 [==============================] - 32s 21ms/step - loss: 0.1798 - accuracy: 0.9386 - val_loss: 0.4588 - val_accuracy: 0.8740\n",
            "Epoch 45/50\n",
            "1562/1562 [==============================] - 32s 21ms/step - loss: 0.1768 - accuracy: 0.9398 - val_loss: 0.4518 - val_accuracy: 0.8706\n",
            "Epoch 46/50\n",
            "1562/1562 [==============================] - 32s 21ms/step - loss: 0.1739 - accuracy: 0.9403 - val_loss: 0.4748 - val_accuracy: 0.8729\n",
            "Epoch 47/50\n",
            "1562/1562 [==============================] - 32s 20ms/step - loss: 0.1705 - accuracy: 0.9414 - val_loss: 0.4098 - val_accuracy: 0.8802\n",
            "Epoch 48/50\n",
            "1562/1562 [==============================] - 32s 21ms/step - loss: 0.1708 - accuracy: 0.9417 - val_loss: 0.3961 - val_accuracy: 0.8870\n",
            "Epoch 49/50\n",
            "1562/1562 [==============================] - 33s 21ms/step - loss: 0.1729 - accuracy: 0.9417 - val_loss: 0.4125 - val_accuracy: 0.8765\n",
            "Epoch 50/50\n",
            "1562/1562 [==============================] - 32s 21ms/step - loss: 0.1663 - accuracy: 0.9440 - val_loss: 0.4338 - val_accuracy: 0.8750\n"
          ]
        }
      ],
      "source": [
        "# Fit with data augmentation\n",
        "# Note: if you run this AFTER calling the previous model.fit(), it will CONTINUE training where it left off\n",
        "batch_size = 32\n",
        "data_generator = tf.keras.preprocessing.image.ImageDataGenerator(width_shift_range=0.1, height_shift_range = 0.1, horizontal_flip = True)\n",
        "train_generator = data_generator.flow(x_train,y_train,batch_size)\n",
        "steps_per_epoch = x_train.shape[0] // batch_size\n",
        "r = model.fit_generator(train_generator, validation_data=(x_test, y_test), steps_per_epoch=steps_per_epoch, epochs=50)"
      ]
    },
    {
      "cell_type": "code",
      "execution_count": 8,
      "metadata": {
        "id": "qNGA7jL9VpQz",
        "colab": {
          "base_uri": "https://localhost:8080/",
          "height": 282
        },
        "outputId": "5f0ff974-e133-4977-d001-9cb4f471df49"
      },
      "outputs": [
        {
          "output_type": "execute_result",
          "data": {
            "text/plain": [
              "<matplotlib.legend.Legend at 0x7fc1579f8ad0>"
            ]
          },
          "metadata": {},
          "execution_count": 8
        },
        {
          "output_type": "display_data",
          "data": {
            "text/plain": [
              "<Figure size 432x288 with 1 Axes>"
            ],
            "image/png": "[encoded data removed]"
          },
          "metadata": {
            "needs_background": "light"
          }
        }
      ],
      "source": [
        "import matplotlib.pyplot as plt\n",
        "plt.plot(r.history['loss'], label='loss')\n",
        "plt.plot(r.history['val_loss'], label='val_loss')\n",
        "plt.legend()"
      ]
    },
    {
      "cell_type": "code",
      "execution_count": 9,
      "metadata": {
        "id": "BD9qw3SCVp5K",
        "colab": {
          "base_uri": "https://localhost:8080/",
          "height": 282
        },
        "outputId": "7e02e7da-82de-4460-f671-b660865dd1e4"
      },
      "outputs": [
        {
          "output_type": "execute_result",
          "data": {
            "text/plain": [
              "<matplotlib.legend.Legend at 0x7fc1579f8e90>"
            ]
          },
          "metadata": {},
          "execution_count": 9
        },
        {
          "output_type": "display_data",
          "data": {
            "text/plain": [
              "<Figure size 432x288 with 1 Axes>"
            ],
            "image/png": "[encoded data removed]"
          },
          "metadata": {
            "needs_background": "light"
          }
        }
      ],
      "source": [
        "plt.plot(r.history['accuracy'], label='acc')\n",
        "plt.plot(r.history['val_accuracy'], label='val_acc')\n",
        "plt.legend()"
      ]
    },
    {
      "cell_type": "code",
      "execution_count": 10,
      "metadata": {
        "id": "b-7G1l9BVs9t",
        "colab": {
          "base_uri": "https://localhost:8080/",
          "height": 502
        },
        "outputId": "2e1b460f-ccfb-4cf2-b004-421662cda398"
      },
      "outputs": [
        {
          "output_type": "stream",
          "name": "stdout",
          "text": [
            "Confusion matrix, without normalization\n",
            "[[879  13  42   8   8   4   8  12  19   7]\n",
            " [  3 962   4   2   0   0   6   1   3  19]\n",
            " [ 10   0 881  22  21  20  33  11   2   0]\n",
            " [ 13   3  53 696  34 104  72  20   1   4]\n",
            " [  4   0  42  13 869  13  38  20   1   0]\n",
            " [  6   1  38  64  25 815  25  22   1   3]\n",
            " [  3   1  24   8   6   5 947   2   0   4]\n",
            " [  4   1  14  10  24  37   6 902   1   1]\n",
            " [ 38  17  11   6   2   0  11   4 888  23]\n",
            " [  7  52   6   6   1   1   8   4   4 911]]\n"
          ]
        },
        {
          "output_type": "display_data",
          "data": {
            "text/plain": [
              "<Figure size 432x288 with 2 Axes>"
            ],
            "image/png": "[encoded data removed]"
          },
          "metadata": {
            "needs_background": "light"
          }
        }
      ],
      "source": [
        "# Plot confusion matrix\n",
        "from sklearn.metrics import confusion_matrix\n",
        "import itertools\n",
        "\n",
        "def plot_confusion_matrix(cm, classes,\n",
        "                          normalize=False,\n",
        "                          title='Confusion matrix',\n",
        "                          cmap=plt.cm.Blues):\n",
        "  \"\"\"\n",
        "  This function prints and plots the confusion matrix.\n",
        "  Normalization can be applied by setting `normalize=True`.\n",
        "  \"\"\"\n",
        "  if normalize:\n",
        "      cm = cm.astype('float') / cm.sum(axis=1)[:, np.newaxis]\n",
        "      print(\"Normalized confusion matrix\")\n",
        "  else:\n",
        "      print('Confusion matrix, without normalization')\n",
        "\n",
        "  print(cm)\n",
        "\n",
        "  plt.imshow(cm, interpolation='nearest', cmap=cmap)\n",
        "  plt.title(title)\n",
        "  plt.colorbar()\n",
        "  tick_marks = np.arange(len(classes))\n",
        "  plt.xticks(tick_marks, classes, rotation=45)\n",
        "  plt.yticks(tick_marks, classes)\n",
        "\n",
        "  fmt = '.2f' if normalize else 'd'\n",
        "  thresh = cm.max() / 2.\n",
        "  for i, j in itertools.product(range(cm.shape[0]), range(cm.shape[1])):\n",
        "      plt.text(j, i, format(cm[i, j], fmt),\n",
        "               horizontalalignment=\"center\",\n",
        "               color=\"white\" if cm[i, j] > thresh else \"black\")\n",
        "\n",
        "  plt.tight_layout()\n",
        "  plt.ylabel('True label')\n",
        "  plt.xlabel('Predicted label')\n",
        "  plt.show()\n",
        "\n",
        "\n",
        "p_test = model.predict(x_test).argmax(axis=1)\n",
        "cm = confusion_matrix(y_test, p_test)\n",
        "plot_confusion_matrix(cm, list(range(10)))\n",
        "\n"
      ]
    },
    {
      "cell_type": "code",
      "execution_count": 11,
      "metadata": {
        "id": "hfvGYwTEVuwA"
      },
      "outputs": [],
      "source": [
        "# label mapping\n",
        "labels = '''airplane\n",
        "automobile\n",
        "bird\n",
        "cat\n",
        "deer\n",
        "dog\n",
        "frog\n",
        "horse\n",
        "ship\n",
        "truck'''.split()"
      ]
    },
    {
      "cell_type": "code",
      "execution_count": 12,
      "metadata": {
        "id": "YU1qOspYVw1u",
        "colab": {
          "base_uri": "https://localhost:8080/",
          "height": 281
        },
        "outputId": "59a126fe-62bc-4ff1-fca5-21e8b0cb4c2a"
      },
      "outputs": [
        {
          "output_type": "display_data",
          "data": {
            "text/plain": [
              "<Figure size 432x288 with 1 Axes>"
            ],
            "image/png": "[encoded data removed]"
          },
          "metadata": {
            "needs_background": "light"
          }
        }
      ],
      "source": [
        "misclassified_idx = np.where(p_test != y_test)[0]\n",
        "i = np.random.choice(misclassified_idx)\n",
        "plt.imshow(x_test[i], cmap='gray')\n",
        "plt.title(\"True label: %s Predicted: %s\" % (labels[y_test[i]], labels[p_test[i]]));"
      ]
    },
    {
      "cell_type": "code",
      "execution_count": 13,
      "metadata": {
        "id": "7xnYPKTWWCeA",
        "colab": {
          "base_uri": "https://localhost:8080/"
        },
        "outputId": "27427d22-ebc9-4050-c6af-7b344d831de8"
      },
      "outputs": [
        {
          "output_type": "stream",
          "name": "stdout",
          "text": [
            "Model: \"model\"\n",
            "_________________________________________________________________\n",
            " Layer (type)                Output Shape              Param #   \n",
            "=================================================================\n",
            " input_1 (InputLayer)        [(None, 32, 32, 3)]       0         \n",
            "                                                                 \n",
            " conv2d (Conv2D)             (None, 32, 32, 32)        896       \n",
            "                                                                 \n",
            " batch_normalization (BatchN  (None, 32, 32, 32)       128       \n",
            " ormalization)                                                   \n",
            "                                                                 \n",
            " conv2d_1 (Conv2D)           (None, 32, 32, 32)        9248      \n",
            "                                                                 \n",
            " batch_normalization_1 (Batc  (None, 32, 32, 32)       128       \n",
            " hNormalization)                                                 \n",
            "                                                                 \n",
            " max_pooling2d (MaxPooling2D  (None, 16, 16, 32)       0         \n",
            " )                                                               \n",
            "                                                                 \n",
            " conv2d_2 (Conv2D)           (None, 16, 16, 64)        18496     \n",
            "                                                                 \n",
            " batch_normalization_2 (Batc  (None, 16, 16, 64)       256       \n",
            " hNormalization)                                                 \n",
            "                                                                 \n",
            " conv2d_3 (Conv2D)           (None, 16, 16, 64)        36928     \n",
            "                                                                 \n",
            " batch_normalization_3 (Batc  (None, 16, 16, 64)       256       \n",
            " hNormalization)                                                 \n",
            "                                                                 \n",
            " max_pooling2d_1 (MaxPooling  (None, 8, 8, 64)         0         \n",
            " 2D)                                                             \n",
            "                                                                 \n",
            " conv2d_4 (Conv2D)           (None, 8, 8, 128)         73856     \n",
            "                                                                 \n",
            " batch_normalization_4 (Batc  (None, 8, 8, 128)        512       \n",
            " hNormalization)                                                 \n",
            "                                                                 \n",
            " conv2d_5 (Conv2D)           (None, 8, 8, 128)         147584    \n",
            "                                                                 \n",
            " batch_normalization_5 (Batc  (None, 8, 8, 128)        512       \n",
            " hNormalization)                                                 \n",
            "                                                                 \n",
            " max_pooling2d_2 (MaxPooling  (None, 4, 4, 128)        0         \n",
            " 2D)                                                             \n",
            "                                                                 \n",
            " flatten (Flatten)           (None, 2048)              0         \n",
            "                                                                 \n",
            " dropout (Dropout)           (None, 2048)              0         \n",
            "                                                                 \n",
            " dense (Dense)               (None, 1024)              2098176   \n",
            "                                                                 \n",
            " dropout_1 (Dropout)         (None, 1024)              0         \n",
            "                                                                 \n",
            " dense_1 (Dense)             (None, 10)                10250     \n",
            "                                                                 \n",
            "=================================================================\n",
            "Total params: 2,397,226\n",
            "Trainable params: 2,396,330\n",
            "Non-trainable params: 896\n",
            "_________________________________________________________________\n"
          ]
        }
      ],
      "source": [
        "model.summary()"
      ]
    }
  ],
  "metadata": {
    "accelerator": "GPU",
    "colab": {
      "collapsed_sections": [],
      "name": "Improved- CNN.ipynb",
      "provenance": [],
      "include_colab_link": true
    },
    "kernelspec": {
      "display_name": "Python 3 (ipykernel)",
      "language": "python",
      "name": "python3"
    },
    "language_info": {
      "codemirror_mode": {
        "name": "ipython",
        "version": 3
      },
      "file_extension": ".py",
      "mimetype": "text/x-python",
      "name": "python",
      "nbconvert_exporter": "python",
      "pygments_lexer": "ipython3",
      "version": "3.9.12"
    }
  },
  "nbformat": 4,
  "nbformat_minor": 0
}